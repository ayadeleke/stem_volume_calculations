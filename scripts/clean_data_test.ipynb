{
 "cells": [
  {
   "cell_type": "code",
   "execution_count": 36,
   "id": "a1b4003f",
   "metadata": {},
   "outputs": [],
   "source": [
    "import pandas as pd\n",
    "import sys\n",
    "\n",
    "def clean_data(file_path: str) -> pd.DataFrame:\n",
    "    \"\"\"Load and clean the dataset.\n",
    "\n",
    "    Args:\n",
    "        file_path (str): Path to the CSV file.\n",
    "\n",
    "    Returns:\n",
    "        pd.DataFrame: Cleaned DataFrame.\n",
    "    \"\"\"\n",
    "    # Load the dataset\n",
    "    df = pd.read_csv(file_path,  index_col=0)\n",
    "\n",
    "    # Drop duplicates\n",
    "    df.drop_duplicates(inplace=True)\n",
    "\n",
    "    # Fill missing values\n",
    "    df.fillna(method='ffill', inplace=True)\n",
    "\n",
    "    # Capitalize species column\n",
    "    df['species'] = df['species'].str.capitalize()\n",
    "\n",
    "    return df\n"
   ]
  },
  {
   "cell_type": "code",
   "execution_count": null,
   "id": "0e700ddd",
   "metadata": {},
   "outputs": [
    {
     "name": "stdout",
     "output_type": "stream",
     "text": [
      "Missing values before cleaning:\n",
      "species                            0\n",
      "diameter at breast height [mm]     0\n",
      "height [dm]                       27\n",
      "volume with bark [m3]              0\n",
      "dtype: int64\n",
      "Number of duplicates: 2\n"
     ]
    }
   ],
   "source": [
    "# read in the file\n",
    "df = pd.read_csv(\"../data/trees_sampled.csv\", index_col=0)\n",
    "\n",
    "# check for missing values\n",
    "print(\"Missing values before cleaning:\")\n",
    "print(df.isna().sum())\n",
    "\n",
    "# check for duplicates\n",
    "duplicates = df.duplicated().sum()\n",
    "print(f\"Number of duplicates: {duplicates}\")\n"
   ]
  },
  {
   "cell_type": "code",
   "execution_count": 37,
   "id": "2c3360ae",
   "metadata": {},
   "outputs": [
    {
     "name": "stdout",
     "output_type": "stream",
     "text": [
      "Missing values after cleaning:\n",
      "species                           0\n",
      "diameter at breast height [mm]    0\n",
      "height [dm]                       0\n",
      "volume with bark [m3]             0\n",
      "dtype: int64\n",
      "Number of duplicates: 0\n",
      "Unique species after cleaning:\n",
      "['Norway spruce' 'Sitka spruce' 'Other spruces' 'Scots pine'\n",
      " 'Mountain pine' 'European black pine' 'Pinus cembra' 'Eastern white pine'\n",
      " 'Other pines' 'Silver fir' 'Grand fir' 'Other firs' 'Douglas fir'\n",
      " 'European larch' 'Japanese larch' 'Other coniferous trees' 'European yew'\n",
      " 'Beech' 'English oak' 'Sessile oak' 'Northern red oak' 'Common ash'\n",
      " 'Hornbeam' 'Sycamore maple' 'Norway maple' 'Field maple' 'Linden tree'\n",
      " 'Black locust' 'Elm, native species' 'Chestnut'\n",
      " 'Misc. deciduous trees with long life expectancy' 'Service tree'\n",
      " 'Common whitebeam' 'Silver birch'\n",
      " 'Betula pubescens + betula pubescens var. glabrata' 'Black alder'\n",
      " 'Grey alder' 'Common aspen' 'European black poplar' 'Grey poplar'\n",
      " 'Silver poplar' 'Balsam poplar' 'European rowan' 'Willow' 'Bird cherry'\n",
      " 'Wild cherry' 'Black cherry'\n",
      " 'Misc. deciduous trees with short life expectancy' 'European crab apple'\n",
      " 'European wild pear' 'Wild service tree']\n"
     ]
    }
   ],
   "source": [
    "path =\"../data/trees_sampled.csv\"\n",
    "\n",
    "new_df = clean_data(path)\n",
    "\n",
    "# check for missing values\n",
    "print(\"Missing values after cleaning:\")\n",
    "print(new_df.isna().sum())\n",
    "\n",
    "# check for duplicates\n",
    "duplicates = new_df.duplicated().sum()\n",
    "print(f\"Number of duplicates: {duplicates}\")\n",
    "\n",
    "# Check capitalization of species\n",
    "print(\"Unique species after cleaning:\")\n",
    "print(new_df['species'].unique())"
   ]
  }
 ],
 "metadata": {
  "kernelspec": {
   "display_name": "base",
   "language": "python",
   "name": "python3"
  },
  "language_info": {
   "codemirror_mode": {
    "name": "ipython",
    "version": 3
   },
   "file_extension": ".py",
   "mimetype": "text/x-python",
   "name": "python",
   "nbconvert_exporter": "python",
   "pygments_lexer": "ipython3",
   "version": "3.10.9"
  }
 },
 "nbformat": 4,
 "nbformat_minor": 5
}
